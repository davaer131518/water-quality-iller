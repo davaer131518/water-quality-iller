{
 "cells": [
  {
   "cell_type": "markdown",
   "id": "3d09f984-8881-40c0-bae8-15753313fce7",
   "metadata": {
    "jp-MarkdownHeadingCollapsed": true
   },
   "source": [
    "# Packages"
   ]
  },
  {
   "cell_type": "code",
   "execution_count": 1,
   "id": "4f4283f7-c11d-4a9a-8f88-ac4716eabd0f",
   "metadata": {},
   "outputs": [],
   "source": [
    "import pandas as pd\n",
    "from tqdm.notebook import tqdm\n",
    "from functools import reduce"
   ]
  },
  {
   "cell_type": "markdown",
   "id": "1ad5e162-e90c-46ce-ac0d-89f62b306930",
   "metadata": {
    "jp-MarkdownHeadingCollapsed": true
   },
   "source": [
    "# Functions"
   ]
  },
  {
   "cell_type": "code",
   "execution_count": 2,
   "id": "921e695b-58e9-4521-888e-6cd9bf045119",
   "metadata": {},
   "outputs": [],
   "source": [
    "def flatten(A):\n",
    "    rt = []\n",
    "    for i in A:\n",
    "        if isinstance(i,list): rt.extend(flatten(i))\n",
    "        else: rt.append(i)\n",
    "    return rt"
   ]
  },
  {
   "cell_type": "code",
   "execution_count": 3,
   "id": "d4b03571-65d9-41b9-8913-f41863b16866",
   "metadata": {},
   "outputs": [],
   "source": [
    "def uniquize(seq):\n",
    "    seen = set()\n",
    "    seen_add = seen.add\n",
    "    return [x for x in seq if not (x in seen or seen_add(x))]"
   ]
  },
  {
   "cell_type": "markdown",
   "id": "eab937de-9d42-4e52-af2c-c7da408a07cc",
   "metadata": {
    "jp-MarkdownHeadingCollapsed": true
   },
   "source": [
    "# Data Reading"
   ]
  },
  {
   "cell_type": "code",
   "execution_count": 10,
   "id": "b5aa2b84-a27e-4702-bfbc-f2e9401164a4",
   "metadata": {},
   "outputs": [],
   "source": [
    "# River discharge\n",
    "\n",
    "gerinneabfluss = pd.read_csv('gerinneabfluss.txt', delim_whitespace=True, skiprows=1, header=None, names=['YY', 'MM', 'DD', 'HH', '11502', '10304', '20203'])\n",
    "gerinneabfluss.drop(columns=['HH'], inplace=True)\n",
    "gerinneabfluss['Date'] = pd.to_datetime(gerinneabfluss[['YY', 'MM', 'DD']].astype(str).agg('-'.join, axis=1), format='%Y-%m-%d', errors='coerce')\n",
    "gerinneabfluss.drop(['YY', 'MM', 'DD', '10304', '20203'], axis=1) # 11502 - Iller/Kempten\n",
    "gerinneabfluss = gerinneabfluss[['Date', '11502']]"
   ]
  },
  {
   "cell_type": "code",
   "execution_count": 11,
   "id": "f0f718a7-9194-4cb4-9097-b574b51c30d3",
   "metadata": {},
   "outputs": [],
   "source": [
    "# Radiation\n",
    "\n",
    "glorad = pd.read_csv('glorad.txt', delim_whitespace=True, skiprows=1, header=None, names=['YY', 'MM', 'DD', 'HH', '11502', '10304', '20203'])\n",
    "glorad.drop(columns=['HH'], inplace=True)\n",
    "glorad['Date'] = pd.to_datetime(glorad[['YY', 'MM', 'DD']].astype(str).agg('-'.join, axis=1), format='%Y-%m-%d', errors='coerce')\n",
    "glorad.drop(['YY', 'MM', 'DD', '10304', '20203'], axis=1) # 11502 - Iller/Kempten\n",
    "glorad = glorad[['Date', '11502']]"
   ]
  },
  {
   "cell_type": "code",
   "execution_count": 12,
   "id": "6c6f7981-2ac9-48ed-86f5-4637c99f546c",
   "metadata": {},
   "outputs": [],
   "source": [
    "# Air temperature\n",
    "\n",
    "airtmp = pd.read_csv('airtmp.txt', delim_whitespace=True, skiprows=1, header=None, names=['YY', 'MM', 'DD', 'HH', '11502', '10304', '20203'])\n",
    "airtmp.drop(columns=['HH'], inplace=True)\n",
    "airtmp['Date'] = pd.to_datetime(airtmp[['YY', 'MM', 'DD']].astype(str).agg('-'.join, axis=1), format='%Y-%m-%d', errors='coerce')\n",
    "airtmp.drop(['YY', 'MM', 'DD', '10304', '20203'], axis=1) # 11502 - Iller/Kempten\n",
    "airtmp = airtmp[['Date', '11502']]"
   ]
  },
  {
   "cell_type": "code",
   "execution_count": 13,
   "id": "4f1fb862-4f92-47cb-b7e5-ac1417189046",
   "metadata": {},
   "outputs": [],
   "source": [
    "# Relative humidity\n",
    "\n",
    "relhum = pd.read_csv('relhum.txt', delim_whitespace=True, skiprows=1, header=None, names=['YY', 'MM', 'DD', 'HH', '11502', '10304', '20203'])\n",
    "relhum.drop(columns=['HH'], inplace=True)\n",
    "relhum['Date'] = pd.to_datetime(relhum[['YY', 'MM', 'DD']].astype(str).agg('-'.join, axis=1), format='%Y-%m-%d', errors='coerce')\n",
    "relhum.drop(['YY', 'MM', 'DD', '10304', '20203'], axis=1) # 11502 - Iller/Kempten\n",
    "relhum = relhum[['Date', '11502']]"
   ]
  },
  {
   "cell_type": "code",
   "execution_count": 14,
   "id": "feaed37c-c5ff-4baa-85b5-ed764ce4f846",
   "metadata": {},
   "outputs": [],
   "source": [
    "# Precipitation\n",
    "\n",
    "precip = pd.read_csv('precip.txt', delim_whitespace=True, skiprows=1, header=None, names=['YY', 'MM', 'DD', 'HH', '11502', '10304', '20203'])\n",
    "precip.drop(columns=['HH'], inplace=True)\n",
    "precip['Date'] = pd.to_datetime(precip[['YY', 'MM', 'DD']].astype(str).agg('-'.join, axis=1), format='%Y-%m-%d', errors='coerce')\n",
    "precip.drop(['YY', 'MM', 'DD', '10304', '20203'], axis=1) # 11502 - Iller/Kempten\n",
    "precip = precip[['Date', '11502']]"
   ]
  },
  {
   "cell_type": "markdown",
   "id": "2d250e5d-f198-42f2-9d6c-c35f67908e80",
   "metadata": {
    "jp-MarkdownHeadingCollapsed": true
   },
   "source": [
    "# Data Preprocessing"
   ]
  },
  {
   "cell_type": "markdown",
   "id": "fd9b5118-ee5e-49b3-9e43-d16be0c894e8",
   "metadata": {
    "jp-MarkdownHeadingCollapsed": true
   },
   "source": [
    "## Groupby Monthly & Fix Day"
   ]
  },
  {
   "cell_type": "code",
   "execution_count": 15,
   "id": "7bef7de2-c80c-4927-ba6f-a57a11ef2ba8",
   "metadata": {},
   "outputs": [],
   "source": [
    "datasets = {'precip': precip, 'relhum': relhum, 'airtmp': airtmp, 'glorad': glorad, 'gerinneabfluss': gerinneabfluss}\n",
    "\n",
    "monthly_results = {}\n",
    "\n",
    "for var_name, df in datasets.items():\n",
    "    monthly_df = df.groupby(df.set_index('Date').index.to_period(\"M\")).mean().drop(columns=['Date']).reset_index()\n",
    "    monthly_df['Date'] = pd.to_datetime(monthly_df['Date'].dt.strftime('%Y-%m') + '-15').dt.date\n",
    "    \n",
    "    # Set the result in the dictionary\n",
    "    monthly_results[var_name + '_monthly'] = monthly_df\n",
    "\n",
    "precip_monthly = monthly_results['precip_monthly']\n",
    "relhum_monthly = monthly_results['relhum_monthly']\n",
    "airtmp_monthly = monthly_results['airtmp_monthly']\n",
    "glorad_monthly = monthly_results['glorad_monthly']\n",
    "gerinneabfluss_monthly = monthly_results['gerinneabfluss_monthly']\n",
    "    \n",
    "precip_monthly.rename(columns={'11502': 'Precipitation (mm)'}, inplace=True)\n",
    "relhum_monthly.rename(columns={'11502': 'Relative Humidity (x100%)'}, inplace=True)\n",
    "airtmp_monthly.rename(columns={'11502': 'Air Temperature'}, inplace=True)\n",
    "glorad_monthly.rename(columns={'11502': 'Radiation (W/m²)'}, inplace=True)\n",
    "gerinneabfluss_monthly.rename(columns={'11502': 'River Discharge (m³/s)'}, inplace=True)\n",
    "\n",
    "dataframes_monthly = [airtmp_monthly, relhum_monthly, precip_monthly, glorad_monthly, gerinneabfluss_monthly]\n",
    "\n",
    "# Round numerical values of each df iteratively\n",
    "\n",
    "for df in dataframes_monthly:\n",
    "    df.iloc[:, 1:] = df.iloc[:, 1:].apply(lambda x: round(x, 3))"
   ]
  },
  {
   "cell_type": "markdown",
   "id": "27e55227-9cc3-4726-8365-3a67e61fdfe7",
   "metadata": {
    "jp-MarkdownHeadingCollapsed": true
   },
   "source": [
    "# Concatenate & Store Final Data"
   ]
  },
  {
   "cell_type": "code",
   "execution_count": 18,
   "id": "0ee230a6-9748-4d36-a02a-66d52fb76290",
   "metadata": {},
   "outputs": [],
   "source": [
    "result_df = reduce(lambda left, right: pd.merge(left, right, on='Date'), dataframes_monthly)\n",
    "result_df['Date'] = pd.to_datetime(result_df['Date'])\n",
    "result_df['Date'] = result_df['Date'].dt.strftime('%d/%m/%Y')"
   ]
  },
  {
   "cell_type": "code",
   "execution_count": 20,
   "id": "f9d5d23a-aebb-477f-90e3-89cdd458e7c0",
   "metadata": {},
   "outputs": [],
   "source": [
    "result_df.to_csv('MeteorologicalDataFull.csv', encoding='utf-8', index=False)"
   ]
  }
 ],
 "metadata": {
  "kernelspec": {
   "display_name": "Python 3 (ipykernel)",
   "language": "python",
   "name": "python3"
  },
  "language_info": {
   "codemirror_mode": {
    "name": "ipython",
    "version": 3
   },
   "file_extension": ".py",
   "mimetype": "text/x-python",
   "name": "python",
   "nbconvert_exporter": "python",
   "pygments_lexer": "ipython3",
   "version": "3.11.7"
  }
 },
 "nbformat": 4,
 "nbformat_minor": 5
}
